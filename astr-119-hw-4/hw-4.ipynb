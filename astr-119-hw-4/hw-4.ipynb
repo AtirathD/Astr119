{
 "cells": [
  {
   "cell_type": "code",
   "execution_count": null,
   "metadata": {},
   "outputs": [],
   "source": [
    "#learned from lecture notes\n",
    "\n",
    "%matplotlib inline\n",
    "import numpy as np\n",
    "import matplotlib.pyplot as plt\n"
   ]
  },
  {
   "cell_type": "code",
   "execution_count": null,
   "metadata": {},
   "outputs": [],
   "source": [
    "def function_for_roots(x):\n",
    "    a = 1.01\n",
    "    b = -3.04\n",
    "    c = 2.07\n",
    "    \n",
    "    return a*x**2 + b*x + c\n",
    "\n"
   ]
  },
  {
   "cell_type": "code",
   "execution_count": null,
   "metadata": {},
   "outputs": [],
   "source": [
    "def check_initial_values(f, x_min, x_max, tol):\n",
    "    \n",
    "    y_min = f(x_min)\n",
    "    y_max = f(x_max)\n",
    "    \n",
    "    if (y_min*y_max >= 0.0):\n",
    "        print (\"No zero crossing found in this range = \", x_min, x_max)\n",
    "        s = \"f(%f) = %f, f(%f) = %f\" % (x_min, y_min, x_max, y_max)\n",
    "        print(s)\n",
    "        return 0\n",
    "    \n",
    "    if (np.fabs(y_max)<tol):\n",
    "        return 2\n",
    "    \n",
    "    return 3\n",
    "\n"
   ]
  },
  {
   "cell_type": "code",
   "execution_count": null,
   "metadata": {},
   "outputs": [],
   "source": [
    "def bisection_root_finding(f, x_min_start, x_max_start, tol):\n",
    "    \n",
    "    x_min = x_min_start\n",
    "    x_max = x_max_start\n",
    "    x_mid = 0.0\n",
    "    \n",
    "    y_min = f(x_min)\n",
    "    y_max = f(x_max)\n",
    "    y_mid = 0.0\n",
    "    \n",
    "    imax = 1000\n",
    "    i = 0\n",
    "    \n",
    "    flag = check_initial_values(f, x_min, x_max, tol)\n",
    "    if(flag==0):\n",
    "        print (\"Error in bisection_root_finding().\")\n",
    "        raise ValueError('Initial values invalid', x_min, x_max)\n",
    "    elif(flag==1):\n",
    "        return x_min\n",
    "    elif(flag==2):\n",
    "        return x_max\n",
    "    \n",
    "    flag = 1\n",
    "    while(flag):\n",
    "        x_mid = 0.5*(x_min+x_max)\n",
    "        y_mid = f(x_mid)\n",
    "        \n",
    "        if(np.fabs(y_mid)<tol):\n",
    "            flag = 0\n",
    "        else:\n",
    "            if(f(x_min) * f(x_mid) > 0):\n",
    "                x_min = x_mid\n",
    "            else:\n",
    "                x_max = x_mid\n",
    "        \n",
    "        print(x_min, f(x_min), x_max, f(x_max))\n",
    "        \n",
    "        i += 1\n",
    "        \n",
    "        if (i >= imax):\n",
    "            print (\"Exceeded max number of iterations = \", i)\n",
    "            s = \"Min bracket f(%f) = %f\" % (x_min, f(x_min))\n",
    "            print(s)\n",
    "            s = \"Min bracket f(%f) = %f\" % (x_max, f(x_max))\n",
    "            print(s)\n",
    "            s = \"Min bracket f(%f) = %f\" % (x_mid, f(x_mid))\n",
    "            print(s)\n",
    "            raise StopIteration (\"Stopping iterations after \", i)\n",
    "            \n",
    "    return x_mid\n",
    "    \n",
    "    \n",
    "    \n",
    "    \n",
    "    \n",
    "    \n",
    "    \n",
    "    \n",
    "    "
   ]
  },
  {
   "cell_type": "code",
   "execution_count": null,
   "metadata": {},
   "outputs": [],
   "source": [
    "x_min = 0.0\n",
    "x_max = 1.3\n",
    "tolerance = 1.0e-6\n",
    "\n",
    "print(x_min, function_for_roots(x_min))\n",
    "print(x_max, function_for_roots(x_max))\n",
    "\n",
    "x_root = bisection_root_finding(function_for_roots, x_min, x_max, tolerance)\n",
    "y_root = function_for_roots(x_root)\n",
    "\n",
    "s = \"Root found with y(%f) = %f\" % (x_root, y_root)\n",
    "print(s)\n",
    "\n",
    "#having initial guesses of 0,0 and 1.3, it took my method 21 iterations to find the root"
   ]
  },
  {
   "cell_type": "code",
   "execution_count": null,
   "metadata": {},
   "outputs": [],
   "source": [
    "x = np.linspace(0.0, 3.0, 1000)\n",
    "y = function_for_roots(x)\n",
    "\n",
    "plt.plot(x,y)\n",
    "plt.xlim(0,3)\n",
    "plt.ylim(-0.5, 2.1)\n",
    "\n",
    "plt.plot(x_min, function_for_roots(x_min), marker = \"o\", markersize = 10, color = 'g', )\n",
    "plt.plot(x_max, function_for_roots(x_max), marker = \"o\", markersize = 10, color = 'c')\n",
    "plt.plot(x_root, function_for_roots(x_root), marker = \"o\", markersize = 10, color = 'y')\n",
    "plt.axhline(y=0.0, color='r', linestyle='-')"
   ]
  },
  {
   "cell_type": "code",
   "execution_count": null,
   "metadata": {},
   "outputs": [],
   "source": []
  }
 ],
 "metadata": {
  "kernelspec": {
   "display_name": "Python 3",
   "language": "python",
   "name": "python3"
  },
  "language_info": {
   "codemirror_mode": {
    "name": "ipython",
    "version": 3
   },
   "file_extension": ".py",
   "mimetype": "text/x-python",
   "name": "python",
   "nbconvert_exporter": "python",
   "pygments_lexer": "ipython3",
   "version": "3.8.5"
  }
 },
 "nbformat": 4,
 "nbformat_minor": 4
}
