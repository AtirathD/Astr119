{
 "cells": [
  {
   "cell_type": "code",
   "execution_count": null,
   "metadata": {},
   "outputs": [],
   "source": [
    "#Following tutorial found here: https://sep.readthedocs.io/en/v1.0.x/tutorial.html\n",
    "#importing matplotlib, numbpy, astropy (to read fits file), and sep (a source detection package)\n",
    "\n",
    "\n",
    "\n",
    "%matplotlib inline\n",
    "from astropy.io import fits\n",
    "import numpy as np\n",
    "import sep\n",
    "import matplotlib.pyplot as plt\n",
    "from matplotlib import rcParams\n",
    "rcParams['figure.figsize'] = [10., 8.]"
   ]
  },
  {
   "cell_type": "code",
   "execution_count": null,
   "metadata": {},
   "outputs": [],
   "source": [
    "#opening the sample image from the tutorial\n",
    "\n",
    "fname = \"image.fits\"\n",
    "hdu_list = fits.open(fname)\n",
    "hdu_list.info()"
   ]
  },
  {
   "cell_type": "code",
   "execution_count": null,
   "metadata": {},
   "outputs": [],
   "source": [
    "#reading and copying image information to im_data (2d numpy array).\n",
    "\n",
    "\n",
    "im_data = hdu_list[0].data\n",
    "hdu_list.close()\n"
   ]
  },
  {
   "cell_type": "code",
   "execution_count": null,
   "metadata": {},
   "outputs": [],
   "source": [
    "#displaying the image and saving as a png file\n",
    "\n",
    "\n",
    "m, s = np.mean(im_data), np.std(im_data)\n",
    "plt.imshow(im_data, interpolation='nearest',cmap='gray', vmin=m-s, vmax=m+s, origin='lower')\n",
    "plt.colorbar()\n",
    "\n",
    "plt.savefig(\"image.png\")"
   ]
  },
  {
   "cell_type": "code",
   "execution_count": null,
   "metadata": {},
   "outputs": [],
   "source": [
    "#measuing the background of the image using sep.Background()\n",
    "\n",
    "\n",
    "bkg = sep.Background(im_data)\n",
    "\n",
    "#getting global (overall) mean and noise of image background\n",
    "print (bkg.globalback)\n",
    "print (bkg.globalrms)"
   ]
  },
  {
   "cell_type": "code",
   "execution_count": null,
   "metadata": {},
   "outputs": [],
   "source": [
    "#detailing background image as a 2d array as was done with the original image\n",
    "\n",
    "\n",
    "bkg_image = bkg.back()\n",
    "\n",
    "\n",
    "#showing the image of the background, and saving as a png file\n",
    "plt.imshow(bkg_image, interpolation = 'nearest', cmap = 'gray', origin = 'lower')\n",
    "plt.colorbar()\n",
    "\n",
    "plt.savefig(\"bkg_image.png\")"
   ]
  },
  {
   "cell_type": "code",
   "execution_count": null,
   "metadata": {},
   "outputs": [],
   "source": [
    "#Detailing the background noise as a 2-D array\n",
    "\n",
    "bkg_rms = bkg.rms()\n",
    "\n",
    "#Showing the background noise image, and saving as a png file\n",
    "\n",
    "plt.imshow(bkg_rms, interpolation = 'nearest', cmap = 'gray', origin = 'lower')\n",
    "plt.colorbar()\n",
    "\n",
    "plt.savefig(\"bkg_rms.png\")"
   ]
  },
  {
   "cell_type": "code",
   "execution_count": null,
   "metadata": {},
   "outputs": [],
   "source": [
    "#subtracting the background from the original image \n",
    "data_sub = im_data - bkg"
   ]
  },
  {
   "cell_type": "code",
   "execution_count": null,
   "metadata": {},
   "outputs": [],
   "source": [
    "#using sep to extract objects in the image after background has been subtracted. Then finding total amount of objects\n",
    "\n",
    "objects = sep.extract(data_sub, 1.5, err=bkg.globalrms)\n",
    "len(objects)"
   ]
  },
  {
   "cell_type": "code",
   "execution_count": null,
   "metadata": {},
   "outputs": [],
   "source": [
    "#To detect where the aforementioned sources are, they will be outlined in a red ellipse. The subsequent image is then shown\n",
    "#and the file is saved as a png file\n",
    "from matplotlib.patches import Ellipse\n",
    "\n",
    "fig, ax = plt.subplots()\n",
    "m, s = np.mean(data_sub), np.std(data_sub)\n",
    "im = ax.imshow(data_sub, interpolation = 'nearest', cmap = 'gray', vmin = m-s, vmax = m+s, origin = 'lower')\n",
    "\n",
    "for i in range(len(objects)):\n",
    "    e = Ellipse(xy =(objects['x'][i], objects['y'][i]), \n",
    "               width = 6*objects['a'][i],\n",
    "               height = 6*objects['b'][i],\n",
    "               angle=objects['theta'][i] * 180./np.pi)\n",
    "    e.set_facecolor('none')\n",
    "    e.set_edgecolor('red')\n",
    "    ax.add_artist(e)\n",
    "\n",
    "plt.savefig(\"sub_bkg.png\")"
   ]
  },
  {
   "cell_type": "code",
   "execution_count": null,
   "metadata": {},
   "outputs": [],
   "source": [
    "#Reviewing the many attributes of objects (the different properties of the sources, such as flux, or theta)\n",
    "\n",
    "objects.dtype.names\n"
   ]
  },
  {
   "cell_type": "code",
   "execution_count": null,
   "metadata": {},
   "outputs": [],
   "source": [
    "#Performing photometry (finding flux) for 10 objects. \n",
    "\n",
    "flux, fluxerr, flag = sep.sum_circle(data_sub, objects['x'], objects['y'], \n",
    "                                    3.0, err=bkg.globalrms, gain=1.0)\n",
    "\n",
    "for i in range(10):\n",
    "    print(\"object {:d}: flux = {:f} +/- {:f}\".format(i, flux[i], fluxerr[i]))"
   ]
  },
  {
   "cell_type": "code",
   "execution_count": null,
   "metadata": {},
   "outputs": [],
   "source": []
  }
 ],
 "metadata": {
  "kernelspec": {
   "display_name": "Python 3",
   "language": "python",
   "name": "python3"
  },
  "language_info": {
   "codemirror_mode": {
    "name": "ipython",
    "version": 3
   },
   "file_extension": ".py",
   "mimetype": "text/x-python",
   "name": "python",
   "nbconvert_exporter": "python",
   "pygments_lexer": "ipython3",
   "version": "3.8.5"
  }
 },
 "nbformat": 4,
 "nbformat_minor": 4
}
